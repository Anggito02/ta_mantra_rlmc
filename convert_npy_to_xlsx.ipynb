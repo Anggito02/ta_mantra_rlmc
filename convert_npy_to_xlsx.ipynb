{
 "cells": [
  {
   "cell_type": "code",
   "execution_count": 1,
   "metadata": {},
   "outputs": [],
   "source": [
    "import numpy as np\n",
    "import pandas as pd\n",
    "import os"
   ]
  },
  {
   "cell_type": "code",
   "execution_count": 2,
   "metadata": {},
   "outputs": [
    {
     "data": {
      "text/plain": [
       "array([9.10820659, 8.65494994])"
      ]
     },
     "execution_count": 2,
     "metadata": {},
     "output_type": "execute_result"
    }
   ],
   "source": [
    "scaler = np.load(\"./dataset/scaler.npy\")\n",
    "scaler"
   ]
  },
  {
   "cell_type": "code",
   "execution_count": null,
   "metadata": {},
   "outputs": [],
   "source": [
    "npy_file = np.load(\"./dataset/ili/bm_train_preds.npy\")"
   ]
  },
  {
   "cell_type": "code",
   "execution_count": 11,
   "metadata": {},
   "outputs": [
    {
     "data": {
      "text/plain": [
       "(62795, 24)"
      ]
     },
     "execution_count": 11,
     "metadata": {},
     "output_type": "execute_result"
    }
   ],
   "source": [
    "DATASET_PATH = 'bm_train_preds.npz'\n",
    "\n",
    "npz_file = np.load(f'./dataset/{DATASET_PATH}')\n",
    "npy_file = npz_file['lstm1']\n",
    "npy_file.shape\n",
    "\n",
    "# for k in npz_file.keys():\n",
    "#     print(k)\n",
    "#     npy_file = npz_file[k]\n",
    "#     print(npy_file.shape)\n",
    "#     npy_file = np.reshape(npy_file, (npy_file.shape[-1], -1))\n",
    "#     npy_file = np.transpose(npy_file)\n",
    "#     print(npy_file.shape)\n",
    "\n",
    "#     # Make directory\n",
    "#     os.makedirs(f'dataset/generated/bm_train_preds', exist_ok=True)\n",
    "\n",
    "#     # Save to xlsx\n",
    "#     df = pd.DataFrame(npy_file)\n",
    "#     df.to_excel(f'dataset/generated/bm_train_preds/{k}.xlsx')"
   ]
  },
  {
   "cell_type": "code",
   "execution_count": 10,
   "metadata": {},
   "outputs": [
    {
     "data": {
      "text/plain": [
       "(500, 120, 7)"
      ]
     },
     "execution_count": 10,
     "metadata": {},
     "output_type": "execute_result"
    }
   ],
   "source": [
    "DATASET_PATH = 'input.npz'\n",
    "\n",
    "npz_file = np.load(f'./dataset/{DATASET_PATH}')\n",
    "npy_file = npz_file['train_X']\n",
    "\n",
    "npy_file.shape"
   ]
  }
 ],
 "metadata": {
  "kernelspec": {
   "display_name": "py38",
   "language": "python",
   "name": "python3"
  },
  "language_info": {
   "codemirror_mode": {
    "name": "ipython",
    "version": 3
   },
   "file_extension": ".py",
   "mimetype": "text/x-python",
   "name": "python",
   "nbconvert_exporter": "python",
   "pygments_lexer": "ipython3",
   "version": "3.8.18"
  }
 },
 "nbformat": 4,
 "nbformat_minor": 2
}
